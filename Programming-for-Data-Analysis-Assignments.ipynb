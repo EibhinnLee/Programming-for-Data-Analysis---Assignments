{
 "cells": [
  {
   "cell_type": "markdown",
   "metadata": {},
   "source": [
    "# Assignment\n",
    "## Programming for Data Analysis\n",
    "### numpy.random package\n",
    "#### *Eibhinn Lee*\n",
    "\n",
    "\n",
    "https://www.markdownguide.org/basic-syntax/\n",
    "\n",
    "---"
   ]
  },
  {
   "cell_type": "code",
   "execution_count": 120,
   "metadata": {},
   "outputs": [],
   "source": [
    "import numpy as np\n",
    "import matplotlib.pyplot as plt\n"
   ]
  },
  {
   "cell_type": "markdown",
   "metadata": {},
   "source": [
    "#### Task 1 \n",
    "***\n",
    "\n",
    "Overall purpose of the package\n",
    "---"
   ]
  },
  {
   "cell_type": "markdown",
   "metadata": {},
   "source": [
    "Definition\n",
    "***\n",
    "This module is part of the numpy library. In it's simpliest form, it contains functions that are used to randomly generate numbers. Within the module contains some simple random data generation methods, some permutation and distribution functions, and random generator functions. https://www.javatpoint.com/numpy-random.\n",
    "\n",
    "\n",
    "The package's(numpy.random) number routines produce pseudo random numbers using combinations of a BitGenerator to create sequences and a Generator to use those sequences.\n",
    "https://numpy.org/doc/stable/reference/random/index.html#:~:text=Random%20sampling%20(%20numpy.-,random%20),Objects%20that%20generate%20random%20numbers.\n",
    "\n",
    "\n",
    "\n",
    "\n",
    "\n",
    "\n",
    "\n",
    "\n",
    "\n",
    "\n",
    "\n",
    "https://chrisalbon.com/python/basics/generating_random_numbers_with_numpy/\n",
    "\n",
    "https://www.geeksforgeeks.org/numpy-random-rand-python/"
   ]
  },
  {
   "cell_type": "markdown",
   "metadata": {},
   "source": [
    "#### Task 2\n",
    "***\n",
    "1. Simple Random Package\n",
    "    A. integers\n",
    "    B. random\n",
    "    c. choice\n",
    "    d. bytes\n",
    "    \n",
    "2. Permutations\n",
    "    a. shuffle\n",
    "    b. permutation\n",
    "---"
   ]
  },
  {
   "cell_type": "markdown",
   "metadata": {},
   "source": [
    "# Simple Random Data \n",
    "\n",
    "### Integers"
   ]
  },
  {
   "cell_type": "markdown",
   "metadata": {},
   "source": [
    "Return random integers \n",
    "\n",
    "Parameters\n",
    "\n",
    "low: lowest integers to be drawn from the distribution. if no high value, parameter is 0 and value is used as high\n",
    "\n",
    "high: if provided, one above the largest integer to be drawn from the distribution\n",
    "\n",
    "size: output shape. single integer or array\n",
    "\n",
    "dtype: desired tyoe of the result\n",
    "\n",
    "endpoint: if true, sample from low to high, default = False\n",
    "\n",
    "Returns: size hsaped array of random integers or single if size not provided."
   ]
  },
  {
   "cell_type": "code",
   "execution_count": 65,
   "metadata": {},
   "outputs": [
    {
     "data": {
      "text/plain": [
       "array([2, 2, 2, 2, 0, 1, 1, 1, 1, 1], dtype=int64)"
      ]
     },
     "execution_count": 65,
     "metadata": {},
     "output_type": "execute_result"
    }
   ],
   "source": [
    "# integers\n",
    "# example 1\n",
    "\n",
    "rng = np.random.default_rng()\n",
    "# high point = 2\n",
    "# size = 10\n",
    "rng.integers(3, size=10) # random\n",
    "# returns an array of 10 integers ranging between 0 -> 2"
   ]
  },
  {
   "cell_type": "code",
   "execution_count": null,
   "metadata": {},
   "outputs": [],
   "source": []
  },
  {
   "cell_type": "code",
   "execution_count": 66,
   "metadata": {},
   "outputs": [
    {
     "data": {
      "text/plain": [
       "array([[0, 4, 2, 3],\n",
       "       [3, 3, 1, 3]], dtype=int64)"
      ]
     },
     "execution_count": 66,
     "metadata": {},
     "output_type": "execute_result"
    }
   ],
   "source": [
    "# Generate a 2 x 4 array of ints between 0 and 4, inclusive:\n",
    "rng.integers(5, size=(2, 4))"
   ]
  },
  {
   "cell_type": "code",
   "execution_count": null,
   "metadata": {},
   "outputs": [],
   "source": []
  },
  {
   "cell_type": "code",
   "execution_count": null,
   "metadata": {},
   "outputs": [],
   "source": []
  },
  {
   "cell_type": "markdown",
   "metadata": {},
   "source": [
    "# Simple Random Data \n",
    "\n",
    "### B. Random"
   ]
  },
  {
   "cell_type": "markdown",
   "metadata": {},
   "source": [
    "Random function = Outputs return between (0.0 -> 1.0)\n",
    "\n",
    "Results generated from this function are from the \"continuous uniform\" distribution\n",
    "\n",
    "(b -a) * random() + a\n",
    "\n",
    "Parameters: \n",
    "\n",
    "size: intergers or tuple of intergers (if nothing is input, a single vlaue will be returned)\n",
    "\n",
    "dtype: refers to the desired dtype. Default value is np.float64\n",
    "\n",
    "out: alternative output array.\n",
    "\n",
    "Returns: array of random floating numbers or single if no size is input. \n",
    "\n",
    "\n",
    "https://numpy.org/doc/stable/reference/random/generated/numpy.random.Generator.random.html#numpy.random.Generator.random\n",
    "\n",
    "https://www.javatpoint.com/numpy-random\n",
    "\n"
   ]
  },
  {
   "cell_type": "code",
   "execution_count": 29,
   "metadata": {},
   "outputs": [
    {
     "data": {
      "text/plain": [
       "0.4326121258304412"
      ]
     },
     "execution_count": 29,
     "metadata": {},
     "output_type": "execute_result"
    }
   ],
   "source": [
    "#Example 1\n",
    "# Example below is the use of the new generator PCG64\n",
    "# PCG64 replaced the previous default generator MT19937.\n",
    "\n",
    "rng = np.random.default_rng()\n",
    "rng.random()"
   ]
  },
  {
   "cell_type": "code",
   "execution_count": 42,
   "metadata": {},
   "outputs": [
    {
     "data": {
      "text/plain": [
       "array([[-1.10284273, -1.68349137],\n",
       "       [-1.49046969, -1.80214446],\n",
       "       [-0.88404616, -0.3704099 ],\n",
       "       [-0.26655977, -0.84328287],\n",
       "       [-1.112292  , -0.9908954 ],\n",
       "       [-1.54436248, -1.5772185 ]])"
      ]
     },
     "execution_count": 42,
     "metadata": {},
     "output_type": "execute_result"
    }
   ],
   "source": [
    "# Exmaple 2\n",
    "# six by two array\n",
    "# betweens numbers [-2, 0]\n",
    "\n",
    "2 * rng.random((6, 2)) -2"
   ]
  },
  {
   "cell_type": "code",
   "execution_count": null,
   "metadata": {},
   "outputs": [],
   "source": []
  },
  {
   "cell_type": "code",
   "execution_count": null,
   "metadata": {},
   "outputs": [],
   "source": []
  },
  {
   "cell_type": "code",
   "execution_count": 2,
   "metadata": {},
   "outputs": [
    {
     "data": {
      "text/plain": [
       "array([[0.02534534, 0.61643567, 0.33194804, 0.40244019, 0.91607768],\n",
       "       [0.67006288, 0.68442329, 0.99912534, 0.5823677 , 0.22408413],\n",
       "       [0.93301307, 0.70594252, 0.35049961, 0.95774064, 0.58492136]])"
      ]
     },
     "execution_count": 2,
     "metadata": {},
     "output_type": "execute_result"
    }
   ],
   "source": [
    "# Random\n",
    "\n",
    "#Example 1\n",
    "\n",
    "\n",
    "# np.random.rand = used to generate random numbers \n",
    "# in the below example the '3' refers to the rows of output and \n",
    "#the '5' refers to the number of random numbers randomly gererated\n",
    "\n",
    "a = np.random.rand(3, 5)\n",
    "\n",
    "# Returns 3 rows each containing 5 randomly generated numbers between 0.0 -> 1.0\n",
    "\n",
    "a"
   ]
  },
  {
   "cell_type": "code",
   "execution_count": null,
   "metadata": {},
   "outputs": [],
   "source": []
  },
  {
   "cell_type": "code",
   "execution_count": 3,
   "metadata": {},
   "outputs": [
    {
     "data": {
      "text/plain": [
       "0.280721933941229"
      ]
     },
     "execution_count": 3,
     "metadata": {},
     "output_type": "execute_result"
    }
   ],
   "source": [
    "# Example 2\n",
    "\n",
    "# Randomly generating a single number\n",
    "# Re-run to show the randomly generated number each time\n",
    "\n",
    "c = np.random.random()\n",
    "# Returns random number between 0.0 -> 1.0\n",
    "c"
   ]
  },
  {
   "cell_type": "code",
   "execution_count": 4,
   "metadata": {},
   "outputs": [
    {
     "data": {
      "text/plain": [
       "float"
      ]
     },
     "execution_count": 4,
     "metadata": {},
     "output_type": "execute_result"
    }
   ],
   "source": [
    "#type of number returned\n",
    "\n",
    "type(c)"
   ]
  },
  {
   "cell_type": "code",
   "execution_count": null,
   "metadata": {},
   "outputs": [],
   "source": []
  },
  {
   "cell_type": "code",
   "execution_count": null,
   "metadata": {},
   "outputs": [],
   "source": []
  },
  {
   "cell_type": "code",
   "execution_count": null,
   "metadata": {},
   "outputs": [],
   "source": []
  },
  {
   "cell_type": "code",
   "execution_count": null,
   "metadata": {},
   "outputs": [],
   "source": []
  },
  {
   "cell_type": "code",
   "execution_count": null,
   "metadata": {},
   "outputs": [],
   "source": []
  },
  {
   "cell_type": "code",
   "execution_count": null,
   "metadata": {},
   "outputs": [],
   "source": []
  },
  {
   "cell_type": "markdown",
   "metadata": {},
   "source": []
  },
  {
   "cell_type": "code",
   "execution_count": null,
   "metadata": {},
   "outputs": [],
   "source": []
  },
  {
   "cell_type": "code",
   "execution_count": 6,
   "metadata": {},
   "outputs": [
    {
     "data": {
      "text/plain": [
       "array([5, 3, 6], dtype=int64)"
      ]
     },
     "execution_count": 6,
     "metadata": {},
     "output_type": "execute_result"
    }
   ],
   "source": []
  },
  {
   "cell_type": "markdown",
   "metadata": {},
   "source": [
    "# Simple Random Data \n",
    "\n",
    "### Choice"
   ]
  },
  {
   "cell_type": "markdown",
   "metadata": {},
   "source": [
    "This function generates a random sample from a given 1-D array\n",
    "\n",
    "Parameters: \n",
    "    a: array: if ndarray = random sample generated, if integer = random sample generated from np.arange(a)\n",
    "    \n",
    "   size: Output shape. If the given shape is, e.g., (m, n, k), then m * n * k samples are drawn from the 1-d a. Default is None, and a single value is returned.\n",
    "\n",
    "   replace: Whether the sample is with or without replacement\n",
    "\n",
    "   p: The probabilities associated with each entry in a. If not given the sample assumes a uniform distribution over all entries in a.\n",
    "\n",
    "   axis: The axis along which the selection is performed. The default, 0, selects by row.\n",
    "\n",
    "   shuffle: bool, optional\n",
    "    Whether the sample is shuffled when sampling without replacement. Default is True, False\n",
    "    \n",
    "    \n",
    "   Returns:  generates a single or random ndarray"
   ]
  },
  {
   "cell_type": "code",
   "execution_count": 49,
   "metadata": {},
   "outputs": [
    {
     "data": {
      "text/plain": [
       "array([0, 6, 3, 0, 6], dtype=int64)"
      ]
     },
     "execution_count": 49,
     "metadata": {},
     "output_type": "execute_result"
    }
   ],
   "source": [
    "# Choice\n",
    "\n",
    "# example 1\n",
    "\n",
    "#Similar to rng.integers\n",
    "\n",
    "rng = np.random.default_rng()\n",
    "\n",
    "# generate a unifroma random sample from np.arange(7) of size 5\n",
    "\n",
    "rng.choice(7, 5) # output is random"
   ]
  },
  {
   "cell_type": "code",
   "execution_count": 60,
   "metadata": {},
   "outputs": [
    {
     "data": {
      "text/plain": [
       "array([0, 3, 4], dtype=int64)"
      ]
     },
     "execution_count": 60,
     "metadata": {},
     "output_type": "execute_result"
    }
   ],
   "source": [
    "# example 2\n",
    "\n",
    "# generate a uniform random sample from np.arange(5) of size 3 without replacement:\n",
    "\n",
    "rng.choice(5, 3, replace=False)\n",
    "\n",
    "#This is equivalent to rng.permutation(np.arange(5))[:3] "
   ]
  },
  {
   "cell_type": "code",
   "execution_count": null,
   "metadata": {},
   "outputs": [],
   "source": []
  },
  {
   "cell_type": "code",
   "execution_count": null,
   "metadata": {},
   "outputs": [],
   "source": []
  },
  {
   "cell_type": "code",
   "execution_count": null,
   "metadata": {},
   "outputs": [],
   "source": []
  },
  {
   "cell_type": "code",
   "execution_count": null,
   "metadata": {},
   "outputs": [],
   "source": []
  },
  {
   "cell_type": "code",
   "execution_count": null,
   "metadata": {},
   "outputs": [],
   "source": []
  },
  {
   "cell_type": "markdown",
   "metadata": {},
   "source": [
    "# Simple Random Data \n",
    "\n",
    "### Bytes"
   ]
  },
  {
   "cell_type": "markdown",
   "metadata": {},
   "source": [
    "generator.bytes(length)\n",
    "\n",
    "Parameters: length (in the form of an integer)\n",
    "\n",
    "Returns: string of length."
   ]
  },
  {
   "cell_type": "code",
   "execution_count": null,
   "metadata": {},
   "outputs": [],
   "source": []
  },
  {
   "cell_type": "code",
   "execution_count": 43,
   "metadata": {},
   "outputs": [
    {
     "data": {
      "text/plain": [
       "b'\\x81AmG\\xe3\\xf3\\xd8\\x19\\xfc\\xdb'"
      ]
     },
     "execution_count": 43,
     "metadata": {},
     "output_type": "execute_result"
    }
   ],
   "source": [
    "# numpy function.generator.bytes \n",
    "\n",
    "np.random.default_rng().bytes(10)"
   ]
  },
  {
   "cell_type": "code",
   "execution_count": null,
   "metadata": {},
   "outputs": [],
   "source": []
  },
  {
   "cell_type": "code",
   "execution_count": null,
   "metadata": {},
   "outputs": [],
   "source": []
  },
  {
   "cell_type": "code",
   "execution_count": null,
   "metadata": {},
   "outputs": [],
   "source": []
  },
  {
   "cell_type": "markdown",
   "metadata": {},
   "source": [
    "# Permutation\n",
    "\n",
    "### Shuffle"
   ]
  },
  {
   "cell_type": "markdown",
   "metadata": {},
   "source": [
    "Modify a sequence in-place by shuffling its contents.\n",
    "\n",
    "order of sub arrays is changed but contents remain the same\n",
    "\n",
    "Parameters:\n",
    "\n",
    "x: array/list to be shuffled\n",
    "\n",
    "axis: axis which x is tobe shuffled. Default is 0.\n",
    "\n",
    "Returns: none"
   ]
  },
  {
   "cell_type": "markdown",
   "metadata": {},
   "source": [
    "A.Shuffle"
   ]
  },
  {
   "cell_type": "code",
   "execution_count": 91,
   "metadata": {},
   "outputs": [
    {
     "data": {
      "text/plain": [
       "array([ 3,  1,  2,  4, 10,  5,  8,  7, 11,  6,  0,  9])"
      ]
     },
     "execution_count": 91,
     "metadata": {},
     "output_type": "execute_result"
    }
   ],
   "source": [
    "# Example 1\n",
    "# shuffle array given the range np.arange(10) = 0 -> 11 (not including 11)\n",
    "\n",
    "rng = np.random.default_rng()\n",
    "arr = np.arange(12)\n",
    "rng.shuffle(arr)\n",
    "arr"
   ]
  },
  {
   "cell_type": "code",
   "execution_count": 96,
   "metadata": {},
   "outputs": [
    {
     "data": {
      "text/plain": [
       "array([[8, 9],\n",
       "       [4, 5],\n",
       "       [2, 3],\n",
       "       [0, 1],\n",
       "       [6, 7]])"
      ]
     },
     "execution_count": 96,
     "metadata": {},
     "output_type": "execute_result"
    }
   ],
   "source": [
    "# Example 2\n",
    "# shuffle array given the range np.arange(10) = 0 -> 9 (not including 10)\n",
    "# in 5 rows containg 2 integers from the array \n",
    "\n",
    "arr = np.arange(10).reshape((5, 2))\n",
    "rng.shuffle(arr)\n",
    "arr"
   ]
  },
  {
   "cell_type": "code",
   "execution_count": null,
   "metadata": {},
   "outputs": [],
   "source": []
  },
  {
   "cell_type": "code",
   "execution_count": null,
   "metadata": {},
   "outputs": [],
   "source": []
  },
  {
   "cell_type": "code",
   "execution_count": null,
   "metadata": {},
   "outputs": [],
   "source": []
  },
  {
   "cell_type": "markdown",
   "metadata": {},
   "source": [
    "# Permutation\n",
    "\n",
    "### Shuffle"
   ]
  },
  {
   "cell_type": "markdown",
   "metadata": {},
   "source": [
    "Randomly permute a sequence, or return a permuted range.\n",
    "\n",
    "Parameters: \n",
    "\n",
    "x: if x is an integer, randomly permute np.arange(x). If x is array, make a copy and shuffle elements randomly\n",
    "\n",
    "axis: axis which x is shuffled\n",
    "\n",
    "Returns: permuted sequence or array range\n"
   ]
  },
  {
   "cell_type": "code",
   "execution_count": 98,
   "metadata": {},
   "outputs": [
    {
     "data": {
      "text/plain": [
       "array([8, 9, 4, 1, 2, 6, 3, 5, 7, 0])"
      ]
     },
     "execution_count": 98,
     "metadata": {},
     "output_type": "execute_result"
    }
   ],
   "source": [
    "# Example 1\n",
    "# shuffle elements in array - np.arange(10)\n",
    "\n",
    "rng = np.random.default_rng()\n",
    "rng.permutation(10)\n"
   ]
  },
  {
   "cell_type": "code",
   "execution_count": 99,
   "metadata": {},
   "outputs": [
    {
     "data": {
      "text/plain": [
       "array([   4,   17, 1025,   56,  100])"
      ]
     },
     "execution_count": 99,
     "metadata": {},
     "output_type": "execute_result"
    }
   ],
   "source": [
    "# Example 2\n",
    "# shuffle elements in the array provided \n",
    "\n",
    "a = np.random.permutation([1025, 56, 4, 17, 100])\n",
    "a"
   ]
  },
  {
   "cell_type": "code",
   "execution_count": null,
   "metadata": {},
   "outputs": [],
   "source": []
  },
  {
   "cell_type": "markdown",
   "metadata": {},
   "source": [
    "#### Task 3\n",
    "\n",
    "Five Distributions with the numpy.random package\n",
    "---\n",
    "\n",
    "1) Uniform\n",
    "2) Standard normal\n",
    "3) hypergeometric\n",
    "4) triangular\n",
    "5) power"
   ]
  },
  {
   "cell_type": "markdown",
   "metadata": {},
   "source": [
    "Uniform Distribution\n",
    "\n",
    "Draw samples from a uniform Distribution\n",
    "\n",
    "samples are uniformly distributed  over the half-open interval\n",
    "\n",
    "Parameters:\n",
    "\n",
    "low: lower boundary of the output interval. Default is 0\n",
    "\n",
    "high: upper boundary of the output interval. Default is 1.0\n",
    "\n",
    "size: output shape.\n",
    "\n",
    "Returns: drawn samples from the parameterized uniform distribution"
   ]
  },
  {
   "cell_type": "code",
   "execution_count": 112,
   "metadata": {},
   "outputs": [],
   "source": [
    "s = np.random.default_rng().uniform(-1,0,1000)"
   ]
  },
  {
   "cell_type": "code",
   "execution_count": 116,
   "metadata": {},
   "outputs": [
    {
     "data": {
      "text/plain": [
       "True"
      ]
     },
     "execution_count": 116,
     "metadata": {},
     "output_type": "execute_result"
    }
   ],
   "source": [
    "np.all(s >= -1)\n",
    "\n",
    "np.all(s < 0)"
   ]
  },
  {
   "cell_type": "code",
   "execution_count": 117,
   "metadata": {},
   "outputs": [
    {
     "data": {
      "image/png": "[encoded data removed]",
      "text/plain": [
       "<Figure size 432x288 with 1 Axes>"
      ]
     },
     "metadata": {
      "needs_background": "light"
     },
     "output_type": "display_data"
    }
   ],
   "source": [
    "count, bins, ignored = plt.hist(s, 15, density=True)\n",
    "plt.plot(bins, np.ones_like(bins), linewidth=2, color='r')\n",
    "plt.show()"
   ]
  },
  {
   "cell_type": "code",
   "execution_count": null,
   "metadata": {},
   "outputs": [],
   "source": []
  },
  {
   "cell_type": "markdown",
   "metadata": {},
   "source": [
    "Standard Normal Distribution\n",
    "\n",
    "Draw samples from a normal standard distribution \n",
    "\n",
    "Parameters:\n",
    "\n",
    "size: output shape. if given ( a, b, c) then a * b * c samples are drawn. Default is none, single value returned.\n",
    "\n",
    "dtype: desired dtype of the result. Default is np.float64.\n",
    "\n",
    "out: alternative array in which to place a result.\n",
    "\n",
    "Returns: a floating poin array of shape size of drawn samples."
   ]
  },
  {
   "cell_type": "code",
   "execution_count": 125,
   "metadata": {},
   "outputs": [
    {
     "data": {
      "text/plain": [
       "array([ 0.12963646, -0.55517864, -1.80598575, ...,  0.07753474,\n",
       "       -1.31778042, -0.24394391])"
      ]
     },
     "execution_count": 125,
     "metadata": {},
     "output_type": "execute_result"
    }
   ],
   "source": [
    "#standard normal (2)\n",
    "\n",
    "rng = np.random.default_rng()\n",
    "rng.standard_normal(8000)\n",
    "\n",
    "\n"
   ]
  },
  {
   "cell_type": "code",
   "execution_count": null,
   "metadata": {},
   "outputs": [],
   "source": []
  },
  {
   "cell_type": "code",
   "execution_count": null,
   "metadata": {},
   "outputs": [],
   "source": []
  },
  {
   "cell_type": "code",
   "execution_count": null,
   "metadata": {},
   "outputs": [],
   "source": []
  },
  {
   "cell_type": "markdown",
   "metadata": {},
   "source": [
    "Hypergeometric Distribution\n",
    "\n",
    "Samples are drawn from a hypergeometric distribution with specified parameters, ngood (ways to make a good selection), nbad (ways to make a bad selection), and nsample (number of items sampled, which is less than or equal to the sum ngood + nbad).\n",
    "\n",
    "Parameters:\n",
    "\n",
    "ngood:\n",
    "Number of ways to make a good selection\n",
    "\n",
    "nbad:\n",
    "Number of ways to make a bad selection\n",
    "\n",
    "nsample:\n",
    "Number of items sampled.\n",
    "\n",
    "size:\n",
    "Output shape. If the given shape is, e.g., (m, n, k), then m * n * k samples are drawn. If size is None (default), a single value is returned if ngood, nbad, and nsample are all scalars. Otherwise, np.broadcast(ngood, nbad, nsample).size samples are drawn\n",
    "\n",
    "\n",
    "Returns:\n",
    "Drawn samples from the parameterized hypergeometric distribution. Each sample is the number of good items within a randomly selected subset of size nsample taken from a set of ngood good items and nbad bad items."
   ]
  },
  {
   "cell_type": "code",
   "execution_count": 126,
   "metadata": {},
   "outputs": [
    {
     "data": {
      "image/png": "[encoded data removed]",
      "text/plain": [
       "<Figure size 432x288 with 1 Axes>"
      ]
     },
     "metadata": {
      "needs_background": "light"
     },
     "output_type": "display_data"
    }
   ],
   "source": [
    "# hypergeometric (3)\n",
    "rng = np.random.default_rng()\n",
    "ngood, nbad, nsamp = 100, 2, 10\n",
    "s1 = rng.hypergeometric(good, bad, samp, 1000)\n",
    "plt.hist(s1)\n",
    "plt.show()"
   ]
  },
  {
   "cell_type": "code",
   "execution_count": 128,
   "metadata": {},
   "outputs": [
    {
     "data": {
      "text/plain": [
       "1.5344600000000002"
      ]
     },
     "execution_count": 128,
     "metadata": {},
     "output_type": "execute_result"
    }
   ],
   "source": [
    "s = rng.hypergeometric(15, 15, 15, 100000)\n",
    "sum(s>=7)/100000. + sum(s<=8)/100000."
   ]
  },
  {
   "cell_type": "code",
   "execution_count": null,
   "metadata": {},
   "outputs": [],
   "source": []
  },
  {
   "cell_type": "code",
   "execution_count": null,
   "metadata": {},
   "outputs": [],
   "source": []
  },
  {
   "cell_type": "code",
   "execution_count": null,
   "metadata": {},
   "outputs": [],
   "source": []
  },
  {
   "cell_type": "markdown",
   "metadata": {},
   "source": [
    "Triangular Distribution\n",
    "\n",
    " triangular distribution is a continuous probability distribution with lower limit left, peak at mode, and upper limit right. Unlike the other distributions, these parameters directly define the shape of the pdf.\n",
    " \n",
    " Parameters:\n",
    "left: Lower limit.\n",
    "\n",
    "mode: The value where the peak of the distribution occurs. The value must fulfill the condition left <= mode <= right.\n",
    "\n",
    "right: Upper limit, must be larger than left.\n",
    "\n",
    "size: Output shape. \n",
    "\n",
    "Returns: \n",
    "Drawn samples from the parameterized triangular distribution."
   ]
  },
  {
   "cell_type": "code",
   "execution_count": 140,
   "metadata": {},
   "outputs": [
    {
     "data": {
      "image/png": "[encoded data removed]",
      "text/plain": [
       "<Figure size 432x288 with 1 Axes>"
      ]
     },
     "metadata": {
      "needs_background": "light"
     },
     "output_type": "display_data"
    }
   ],
   "source": [
    "# triangular (4)\n",
    "\n",
    "h = plt.hist(np.random.default_rng().triangular(-3, 0, 8, 1000000), bins=200,\n",
    "             density=True)\n",
    "plt.show()"
   ]
  },
  {
   "cell_type": "code",
   "execution_count": null,
   "metadata": {},
   "outputs": [],
   "source": []
  },
  {
   "cell_type": "code",
   "execution_count": 21,
   "metadata": {},
   "outputs": [
    {
     "data": {
      "image/png": "[encoded data removed]",
      "text/plain": [
       "<Figure size 432x288 with 1 Axes>"
      ]
     },
     "metadata": {
      "needs_background": "light"
     },
     "output_type": "display_data"
    }
   ],
   "source": [
    "# power (5)\n",
    "\n",
    "x = 5. # shape  \n",
    "samples = 1000  \n",
    "s1 = np.random.power(x, samples)  \n",
    "import matplotlib.pyplot as plt  \n",
    "count, bins, ignored = plt.hist(s1, bins=30)  \n",
    "a = np.linspace(0, 1, 100)  \n",
    "b = x*a**(x-1.)  \n",
    "density_b = samples*np.diff(bins)[0]*b  \n",
    "plt.plot(a, density_b)  \n",
    "plt.show()  "
   ]
  },
  {
   "cell_type": "code",
   "execution_count": null,
   "metadata": {},
   "outputs": [],
   "source": []
  },
  {
   "cell_type": "code",
   "execution_count": null,
   "metadata": {},
   "outputs": [],
   "source": []
  },
  {
   "cell_type": "markdown",
   "metadata": {},
   "source": [
    "#### Task 4\n",
    "\n",
    "Explain the use of seeds in generating pseudorandom numbers.\n",
    "\n",
    "https://yourbasic.org/algorithms/random-number-generator-seed/\n"
   ]
  },
  {
   "cell_type": "markdown",
   "metadata": {},
   "source": [
    "What is a seed?\n",
    "\n",
    "The seed is a starting point for a sequence of pseudorandom numbers. If you start at the same seed you get the same sequence.\n",
    "\n",
    "Are they random?\n",
    "\n",
    "No, to us humans they appear random but in actual fact, they're computed using a fixed fixed determined algorthim.\n",
    "\n",
    "https://yourbasic.org/algorithms/random-number-generator-seed/\n",
    "\n",
    "\n",
    "\n",
    "\n",
    "\n",
    "\n",
    "\n",
    "Why are seeds needed?\n",
    "\n",
    "Computers don't generate random numbers - they are determined by a set of rules. Generally by the time on the computer.\n",
    "\n",
    "A simple example of a non-random generator.\n",
    "\n",
    "E.g\n",
    "\n",
    "(X + 325) = y\n",
    "(y - 50) = z\n",
    "\n",
    "And the next \"random\" number would apply the same logic\n",
    "\n",
    "(z + 325) = p\n",
    "(p -50) = r\n",
    "\n",
    "and so on.\n",
    "\n",
    "when you apply numbers you can see the appearance of a random number each time.\n",
    "\n",
    "Obviously this example is simplistic and the actual algorithm would be much more complex and appear to be even more random.\n",
    "\n",
    "https://www.statisticshowto.com/random-seed-definition/\n",
    "\n",
    "\n",
    "\n",
    "Numpy - 1.19 package\n",
    "\n",
    "*PCG64*\n",
    "\n",
    "Previous numpy versions\n",
    "\n",
    "*MT19937*\n",
    "\n",
    "\n",
    "\n"
   ]
  },
  {
   "cell_type": "code",
   "execution_count": 22,
   "metadata": {},
   "outputs": [],
   "source": [
    "from  numpy.random import Generator, PCG64"
   ]
  },
  {
   "cell_type": "code",
   "execution_count": 23,
   "metadata": {},
   "outputs": [],
   "source": [
    "import numpy.random"
   ]
  },
  {
   "cell_type": "code",
   "execution_count": 24,
   "metadata": {},
   "outputs": [],
   "source": [
    "rg = Generator(PCG64())"
   ]
  },
  {
   "cell_type": "code",
   "execution_count": 25,
   "metadata": {},
   "outputs": [
    {
     "name": "stdout",
     "output_type": "stream",
     "text": [
      "2.16 ms ± 278 µs per loop (mean ± std. dev. of 7 runs, 1 loop each)\n",
      "5.13 ms ± 464 µs per loop (mean ± std. dev. of 7 runs, 1 loop each)\n"
     ]
    }
   ],
   "source": [
    "%timeit -n 1 rg.standard_normal(100000)\n",
    "%timeit -n 1 numpy.random.standard_normal(100000)"
   ]
  },
  {
   "cell_type": "code",
   "execution_count": null,
   "metadata": {},
   "outputs": [],
   "source": []
  },
  {
   "cell_type": "code",
   "execution_count": null,
   "metadata": {},
   "outputs": [],
   "source": [
    "\n"
   ]
  },
  {
   "cell_type": "code",
   "execution_count": null,
   "metadata": {},
   "outputs": [],
   "source": []
  },
  {
   "cell_type": "code",
   "execution_count": null,
   "metadata": {},
   "outputs": [],
   "source": []
  }
 ],
 "metadata": {
  "kernelspec": {
   "display_name": "Python 3",
   "language": "python",
   "name": "python3"
  },
  "language_info": {
   "codemirror_mode": {
    "name": "ipython",
    "version": 3
   },
   "file_extension": ".py",
   "mimetype": "text/x-python",
   "name": "python",
   "nbconvert_exporter": "python",
   "pygments_lexer": "ipython3",
   "version": "3.8.3"
  }
 },
 "nbformat": 4,
 "nbformat_minor": 4
}
